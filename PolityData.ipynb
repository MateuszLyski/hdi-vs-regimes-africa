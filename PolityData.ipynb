{
 "cells": [
  {
   "cell_type": "code",
   "execution_count": 6,
   "id": "7e37b126-495e-45a0-a9f9-308d7121a8ec",
   "metadata": {},
   "outputs": [],
   "source": [
    "import pandas as pd\n",
    "import pyreadstat\n",
    "import xlrd"
   ]
  },
  {
   "cell_type": "code",
   "execution_count": 7,
   "id": "fcbded07-836e-4e65-aa09-9235664a0988",
   "metadata": {},
   "outputs": [],
   "source": [
    "file_path2 = \"data_sets/CSPCoupsListv2021(Sheet1).csv\"\n",
    "\n",
    "dfc = pd.read_csv(file_path2, encoding='ISO-8859-1', delimiter=';', on_bad_lines='skip')\n",
    "\n",
    "columns_to_keep = ['country', 'year', 'success','deaths']\n",
    "dfc = dfc[dfc['country'].isin(african_countries)]\n",
    "dfc = dfc[columns_to_keep]\n",
    "dfc = dfc[dfc['year'] > 1960]\n",
    "#dfc = dfc[dfc['deaths'] != '0']\n",
    "dfc = dfc[dfc['success'] == 1]\n",
    "#dfc = dfp.sort_values(by='year', ascending=False)\n",
    "\n",
    "dfc.to_html('dfc_output.html')"
   ]
  },
  {
   "cell_type": "code",
   "execution_count": 12,
   "id": "72b6dac6-fce1-4d2b-ad4a-1e2cf5a8f54b",
   "metadata": {
    "scrolled": true
   },
   "outputs": [],
   "source": [
    "african_countries = [\n",
    "    \"Algeria\", \"Angola\", \"Benin\", \"Botswana\", \"Burkina Faso\", \"Burundi\", \n",
    "    \"Cabo Verde\", \"Cameroon\", \"Central African Republic\", \"Chad\", \"Comoros\", \n",
    "    \"Congo-Brazzaville\", \"Democratic Republic of the Congo\", \"Djibouti\", \n",
    "    \"Egypt\", \"Equatorial Guinea\", \"Eritrea\", \"Eswatini\", \"Ethiopia\", \"Gabon\", \n",
    "    \"Gambia\", \"Ghana\", \"Guinea\", \"Guinea-Bissau\", \"Ivory Coast\", \"Kenya\", \n",
    "    \"Lesotho\", \"Liberia\", \"Libya\", \"Madagascar\", \"Malawi\", \"Mali\", \"Mauritania\", \n",
    "    \"Mauritius\", \"Morocco\", \"Mozambique\", \"Namibia\", \"Niger\", \"Nigeria\", \n",
    "    \"Rwanda\", \"Sao Tome and Principe\", \"Senegal\", \"Seychelles\", \"Sierra Leone\", \n",
    "    \"Somalia\", \"South Africa\", \"South Sudan\", \"Sudan\", \"Tanzania\", \"Togo\", \"Rhodesia\",\n",
    "    \"Tunisia\", \"Uganda\", \"Zambia\", \"Zimbabwe\"\n",
    "]\n",
    "\n",
    "file_path = \"data_sets/p5v2018 (1).sav\"\n",
    "\n",
    "dfp, meta = pyreadstat.read_sav(file_path)\n",
    "\n",
    "columns_to_keep = ['country', 'year', 'democ','autoc', 'polity2']\n",
    "dfp = dfp[dfp[\"country\"].isin(african_countries)]\n",
    "dfp = dfp[columns_to_keep]\n",
    "dfp = dfp[dfp['year'] > 1960]\n",
    "dfp = dfp[dfp['democ'] > -66]\n",
    "\n",
    "dfp['difference'] = dfp.groupby('country')['polity2'].diff()\n",
    "#dfp = dfp[(dfp['difference'] > 4) | (dfp['difference'].shift(-1) > 4)]\n",
    "\n",
    "#dfp = pd.merge(dfp, dfc, on=['country', 'year'], how='inner')\n",
    "\n",
    "#dfp = dfp[dfp['country'] == \"Uganda\"]\n",
    "#dfp = dfp.dropna()\n",
    "#dfp = dfp.sort_values(by='year', ascending=False)\n",
    "dfp = dfp.reset_index(drop=True)\n",
    "\n",
    "dfp.to_html('dfp_output.html')"
   ]
  },
  {
   "cell_type": "code",
   "execution_count": null,
   "id": "97c7492f-192b-4bf3-9992-6e7cd3572236",
   "metadata": {},
   "outputs": [],
   "source": []
  }
 ],
 "metadata": {
  "kernelspec": {
   "display_name": "Python 3 (ipykernel)",
   "language": "python",
   "name": "python3"
  },
  "language_info": {
   "codemirror_mode": {
    "name": "ipython",
    "version": 3
   },
   "file_extension": ".py",
   "mimetype": "text/x-python",
   "name": "python",
   "nbconvert_exporter": "python",
   "pygments_lexer": "ipython3",
   "version": "3.12.0"
  }
 },
 "nbformat": 4,
 "nbformat_minor": 5
}
