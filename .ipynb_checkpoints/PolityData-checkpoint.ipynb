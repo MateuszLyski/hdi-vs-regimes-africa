{
 "cells": [
  {
   "cell_type": "code",
   "execution_count": 1,
   "id": "72b6dac6-fce1-4d2b-ad4a-1e2cf5a8f54b",
   "metadata": {
    "scrolled": true
   },
   "outputs": [],
   "source": [
    "import pandas as pd\n",
    "import pyreadstat\n",
    "import xlrd\n",
    "\n",
    "\n",
    "african_countries = [\n",
    "    \"Algeria\", \"Angola\", \"Benin\", \"Botswana\", \"Burkina Faso\", \"Burundi\", \n",
    "    \"Cabo Verde\", \"Cameroon\", \"Central African Republic\", \"Chad\", \"Comoros\", \n",
    "    \"Congo-Brazzaville\", \"Democratic Republic of the Congo\", \"Djibouti\", \n",
    "    \"Egypt\", \"Equatorial Guinea\", \"Eritrea\", \"Eswatini\", \"Ethiopia\", \"Gabon\", \n",
    "    \"Gambia\", \"Ghana\", \"Guinea\", \"Guinea-Bissau\", \"Ivory Coast\", \"Kenya\", \n",
    "    \"Lesotho\", \"Liberia\", \"Libya\", \"Madagascar\", \"Malawi\", \"Mali\", \"Mauritania\", \n",
    "    \"Mauritius\", \"Morocco\", \"Mozambique\", \"Namibia\", \"Niger\", \"Nigeria\", \n",
    "    \"Rwanda\", \"Sao Tome and Principe\", \"Senegal\", \"Seychelles\", \"Sierra Leone\", \n",
    "    \"Somalia\", \"South Africa\", \"South Sudan\", \"Sudan\", \"Tanzania\", \"Togo\", \"Rhodesia\",\n",
    "    \"Tunisia\", \"Uganda\", \"Zambia\", \"Zimbabwe\"\n",
    "]\n",
    "\n",
    "\n",
    "\n",
    "file_path = \"data_sets/p5v2018 (1).sav\"\n",
    "\n",
    "dfp, meta = pyreadstat.read_sav(file_path)\n",
    "\n",
    "columns_to_keep = ['country', 'year', 'democ','autoc', 'polity2']\n",
    "dfp = dfp[dfp[\"country\"].isin(african_countries)]\n",
    "dfp = dfp[columns_to_keep]\n",
    "dfp = dfp[dfp['year'] > 1960]\n",
    "dfp = dfp[dfp['democ'] > -66]\n",
    "\n",
    "dfp['difference'] = dfp.groupby('country')['polity2'].diff()\n",
    "\n",
    "dfp = dfp[(dfp['difference'] != 0) | (dfp['difference'].shift(-1) != 0)]\n",
    "\n",
    "#dfp = dfp[dfp['country'] == \"Uganda\"]\n",
    "\n",
    "#dfp = dfp.dropna()\n",
    "\n",
    "dfp = dfp.sort_values(by='difference', ascending=False)\n",
    "\n",
    "dfp = dfp.reset_index(drop=True)\n",
    "\n",
    "dfp.to_html('dfp_output.html')"
   ]
  },
  {
   "cell_type": "code",
   "execution_count": 3,
   "id": "a8c2229e-592a-4c41-8651-1c0e05ae53e7",
   "metadata": {},
   "outputs": [
    {
     "ename": "ModuleNotFoundError",
     "evalue": "No module named 'chardet'",
     "output_type": "error",
     "traceback": [
      "\u001b[1;31m---------------------------------------------------------------------------\u001b[0m",
      "\u001b[1;31mModuleNotFoundError\u001b[0m                       Traceback (most recent call last)",
      "Cell \u001b[1;32mIn[3], line 3\u001b[0m\n\u001b[0;32m      1\u001b[0m file_path2 \u001b[38;5;241m=\u001b[39m \u001b[38;5;124m\"\u001b[39m\u001b[38;5;124mdata_sets/CSPCoupsListv2021(Sheet1).csv\u001b[39m\u001b[38;5;124m\"\u001b[39m\n\u001b[1;32m----> 3\u001b[0m \u001b[38;5;28;01mimport\u001b[39;00m \u001b[38;5;21;01mchardet\u001b[39;00m\n\u001b[0;32m      5\u001b[0m \u001b[38;5;28;01mwith\u001b[39;00m \u001b[38;5;28mopen\u001b[39m(file_path2, \u001b[38;5;124m'\u001b[39m\u001b[38;5;124mrb\u001b[39m\u001b[38;5;124m'\u001b[39m) \u001b[38;5;28;01mas\u001b[39;00m f:\n\u001b[0;32m      6\u001b[0m     result \u001b[38;5;241m=\u001b[39m chardet\u001b[38;5;241m.\u001b[39mdetect(f\u001b[38;5;241m.\u001b[39mread())\n",
      "\u001b[1;31mModuleNotFoundError\u001b[0m: No module named 'chardet'"
     ]
    }
   ],
   "source": [
    "file_path2 = \"data_sets/CSPCoupsListv2021(Sheet1).csv\"\n",
    "\n",
    "import chardet\n",
    "\n",
    "with open(file_path2, 'rb') as f:\n",
    "    result = chardet.detect(f.read())\n",
    "print(result['encoding'])\n",
    "\n",
    "dfc = pd.read_csv(file_path, encoding='cp1252', on_bad_lines='skip')\n",
    "\n",
    "columns_to_keep = ['country', 'year', 'success','deaths']\n",
    "#dfc = dfc[dfc['country'].isin(african_countries)]\n",
    "dfc = dfc[columns_to_keep]\n",
    "dfc = dfc[dfc['year'] > 1960]\n",
    "\n",
    "dfc.to_html('dfc_output.html')"
   ]
  },
  {
   "cell_type": "code",
   "execution_count": null,
   "id": "39647708-620f-46f5-b891-1a529fd938a7",
   "metadata": {},
   "outputs": [],
   "source": []
  }
 ],
 "metadata": {
  "kernelspec": {
   "display_name": "Python 3 (ipykernel)",
   "language": "python",
   "name": "python3"
  },
  "language_info": {
   "codemirror_mode": {
    "name": "ipython",
    "version": 3
   },
   "file_extension": ".py",
   "mimetype": "text/x-python",
   "name": "python",
   "nbconvert_exporter": "python",
   "pygments_lexer": "ipython3",
   "version": "3.12.0"
  }
 },
 "nbformat": 4,
 "nbformat_minor": 5
}
