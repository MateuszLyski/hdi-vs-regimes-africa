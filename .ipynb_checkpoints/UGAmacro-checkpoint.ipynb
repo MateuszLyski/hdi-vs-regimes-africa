{
 "cells": [
  {
   "cell_type": "code",
   "execution_count": 3,
   "id": "07f295b3-ba0f-4810-a154-81fb2fffb8dd",
   "metadata": {},
   "outputs": [],
   "source": [
    "import pandas as pd\n",
    "pd.options.display.float_format = '{:.2f}'.format"
   ]
  },
  {
   "cell_type": "code",
   "execution_count": 4,
   "id": "05813aac-3062-438a-a521-31cd5df3519d",
   "metadata": {},
   "outputs": [],
   "source": [
    "df = pd.read_csv(\"API_UGA_DS2_en_csv_v2_28828.csv\")"
   ]
  },
  {
   "cell_type": "code",
   "execution_count": 10,
   "id": "72f2fda9-ebd2-4fbb-995c-45b99a1d2c56",
   "metadata": {},
   "outputs": [],
   "source": [
    "df1 = pd.read_csv(\"API_UGA_DS2_en_csv_v2_28828.csv\", usecols=list(range(2, 3)) + list(range(20, 27)))\n",
    "df1 = df1.dropna()\n",
    "df1 = df1.round(2)"
   ]
  },
  {
   "cell_type": "code",
   "execution_count": 11,
   "id": "b5b3cfcb-4543-4539-be4a-c08f60391ef2",
   "metadata": {},
   "outputs": [],
   "source": [
    "#df2 = df1.T\n",
    "#df2.describe()\n",
    "#df2 = df1.iloc[:, [0]]\n",
    "#df2.to_html('df2_output.html')"
   ]
  },
  {
   "cell_type": "code",
   "execution_count": 12,
   "id": "2a377862-af84-4547-a677-3bc7c5e4aafa",
   "metadata": {},
   "outputs": [],
   "source": [
    "df1.to_html('df1_output.html')"
   ]
  },
  {
   "cell_type": "code",
   "execution_count": 8,
   "id": "4982eab4-bda5-45f8-a816-47d2effd8925",
   "metadata": {},
   "outputs": [],
   "source": [
    "n = len(df1.iloc[:, 0])\n",
    "df1 = df1.reset_index(drop=True)\n",
    "rows_to_drop = []\n",
    "\n",
    "for el in range(0, n):\n",
    "    if df1.iloc[el, 1] < df1.iloc[el, 2]:\n",
    "        rows_to_drop.append(el)\n",
    "\n",
    "# Usuń wiersze po zebraniu ich do listy\n",
    "df1 = df1.drop(rows_to_drop)"
   ]
  },
  {
   "cell_type": "code",
   "execution_count": 9,
   "id": "0a1da4c4-f985-4091-a6a7-306169178b97",
   "metadata": {},
   "outputs": [],
   "source": [
    "n = len(df1.iloc[:, 0])\n",
    "df1 = df1.reset_index(drop=True)\n",
    "rows_to_drop = []\n",
    "\n",
    "for el in range(0, n):\n",
    "    if df1.iloc[el, 1] == df1.iloc[el, 2]:\n",
    "        rows_to_drop.append(el)\n",
    "\n",
    "# Usuń wiersze po zebraniu ich do listy\n",
    "df1 = df1.drop(rows_to_drop)"
   ]
  },
  {
   "cell_type": "code",
   "execution_count": 235,
   "id": "397eb289-cd7c-44ee-8cfa-a44272adf211",
   "metadata": {},
   "outputs": [],
   "source": [
    "\n",
    "df1.to_html('df1_output.html')"
   ]
  },
  {
   "cell_type": "code",
   "execution_count": 236,
   "id": "c3874003-7d66-4238-805a-8be936daad47",
   "metadata": {},
   "outputs": [
    {
     "data": {
      "text/html": [
       "<div>\n",
       "<style scoped>\n",
       "    .dataframe tbody tr th:only-of-type {\n",
       "        vertical-align: middle;\n",
       "    }\n",
       "\n",
       "    .dataframe tbody tr th {\n",
       "        vertical-align: top;\n",
       "    }\n",
       "\n",
       "    .dataframe thead th {\n",
       "        text-align: right;\n",
       "    }\n",
       "</style>\n",
       "<table border=\"1\" class=\"dataframe\">\n",
       "  <thead>\n",
       "    <tr style=\"text-align: right;\">\n",
       "      <th></th>\n",
       "      <th>Indicator Name</th>\n",
       "      <th>1979</th>\n",
       "      <th>1980</th>\n",
       "      <th>1981</th>\n",
       "      <th>1982</th>\n",
       "    </tr>\n",
       "  </thead>\n",
       "  <tbody>\n",
       "    <tr>\n",
       "      <th>0</th>\n",
       "      <td>Merchandise exports by the reporting economy (...</td>\n",
       "      <td>277656000.00</td>\n",
       "      <td>163020000.00</td>\n",
       "      <td>265342936.30</td>\n",
       "      <td>356370000.00</td>\n",
       "    </tr>\n",
       "    <tr>\n",
       "      <th>1</th>\n",
       "      <td>Merchandise imports from low- and middle-incom...</td>\n",
       "      <td>33.61</td>\n",
       "      <td>30.94</td>\n",
       "      <td>42.41</td>\n",
       "      <td>33.55</td>\n",
       "    </tr>\n",
       "    <tr>\n",
       "      <th>2</th>\n",
       "      <td>Merchandise imports from low- and middle-incom...</td>\n",
       "      <td>12.75</td>\n",
       "      <td>1.43</td>\n",
       "      <td>0.33</td>\n",
       "      <td>0.43</td>\n",
       "    </tr>\n",
       "    <tr>\n",
       "      <th>3</th>\n",
       "      <td>Population ages 60-64, male (% of male populat...</td>\n",
       "      <td>1.85</td>\n",
       "      <td>1.83</td>\n",
       "      <td>1.80</td>\n",
       "      <td>1.78</td>\n",
       "    </tr>\n",
       "    <tr>\n",
       "      <th>4</th>\n",
       "      <td>Population ages 50-54, male (% of male populat...</td>\n",
       "      <td>2.75</td>\n",
       "      <td>2.70</td>\n",
       "      <td>2.63</td>\n",
       "      <td>2.56</td>\n",
       "    </tr>\n",
       "    <tr>\n",
       "      <th>...</th>\n",
       "      <td>...</td>\n",
       "      <td>...</td>\n",
       "      <td>...</td>\n",
       "      <td>...</td>\n",
       "      <td>...</td>\n",
       "    </tr>\n",
       "    <tr>\n",
       "      <th>102</th>\n",
       "      <td>Carbon dioxide (CO2) emissions excluding LULUC...</td>\n",
       "      <td>0.06</td>\n",
       "      <td>0.05</td>\n",
       "      <td>0.04</td>\n",
       "      <td>0.04</td>\n",
       "    </tr>\n",
       "    <tr>\n",
       "      <th>103</th>\n",
       "      <td>Carbon dioxide (CO2) emissions from Industrial...</td>\n",
       "      <td>0.26</td>\n",
       "      <td>0.17</td>\n",
       "      <td>0.14</td>\n",
       "      <td>0.13</td>\n",
       "    </tr>\n",
       "    <tr>\n",
       "      <th>104</th>\n",
       "      <td>Methane (CH4) emissions (total) excluding LULU...</td>\n",
       "      <td>12.61</td>\n",
       "      <td>12.35</td>\n",
       "      <td>12.49</td>\n",
       "      <td>12.68</td>\n",
       "    </tr>\n",
       "    <tr>\n",
       "      <th>105</th>\n",
       "      <td>Cereal yield (kg per hectare)</td>\n",
       "      <td>1613.70</td>\n",
       "      <td>1491.00</td>\n",
       "      <td>1561.70</td>\n",
       "      <td>1309.00</td>\n",
       "    </tr>\n",
       "    <tr>\n",
       "      <th>106</th>\n",
       "      <td>Crop production index (2014-2016 = 100)</td>\n",
       "      <td>60.11</td>\n",
       "      <td>59.31</td>\n",
       "      <td>63.86</td>\n",
       "      <td>71.15</td>\n",
       "    </tr>\n",
       "  </tbody>\n",
       "</table>\n",
       "<p>107 rows × 5 columns</p>\n",
       "</div>"
      ],
      "text/plain": [
       "                                        Indicator Name         1979  \\\n",
       "0    Merchandise exports by the reporting economy (... 277656000.00   \n",
       "1    Merchandise imports from low- and middle-incom...        33.61   \n",
       "2    Merchandise imports from low- and middle-incom...        12.75   \n",
       "3    Population ages 60-64, male (% of male populat...         1.85   \n",
       "4    Population ages 50-54, male (% of male populat...         2.75   \n",
       "..                                                 ...          ...   \n",
       "102  Carbon dioxide (CO2) emissions excluding LULUC...         0.06   \n",
       "103  Carbon dioxide (CO2) emissions from Industrial...         0.26   \n",
       "104  Methane (CH4) emissions (total) excluding LULU...        12.61   \n",
       "105                      Cereal yield (kg per hectare)      1613.70   \n",
       "106            Crop production index (2014-2016 = 100)        60.11   \n",
       "\n",
       "            1980         1981         1982  \n",
       "0   163020000.00 265342936.30 356370000.00  \n",
       "1          30.94        42.41        33.55  \n",
       "2           1.43         0.33         0.43  \n",
       "3           1.83         1.80         1.78  \n",
       "4           2.70         2.63         2.56  \n",
       "..           ...          ...          ...  \n",
       "102         0.05         0.04         0.04  \n",
       "103         0.17         0.14         0.13  \n",
       "104        12.35        12.49        12.68  \n",
       "105      1491.00      1561.70      1309.00  \n",
       "106        59.31        63.86        71.15  \n",
       "\n",
       "[107 rows x 5 columns]"
      ]
     },
     "execution_count": 236,
     "metadata": {},
     "output_type": "execute_result"
    }
   ],
   "source": [
    "df1"
   ]
  }
 ],
 "metadata": {
  "kernelspec": {
   "display_name": "Python 3 (ipykernel)",
   "language": "python",
   "name": "python3"
  },
  "language_info": {
   "codemirror_mode": {
    "name": "ipython",
    "version": 3
   },
   "file_extension": ".py",
   "mimetype": "text/x-python",
   "name": "python",
   "nbconvert_exporter": "python",
   "pygments_lexer": "ipython3",
   "version": "3.12.0"
  }
 },
 "nbformat": 4,
 "nbformat_minor": 5
}
